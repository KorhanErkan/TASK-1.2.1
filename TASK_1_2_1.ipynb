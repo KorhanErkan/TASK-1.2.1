{
  "nbformat": 4,
  "nbformat_minor": 0,
  "metadata": {
    "colab": {
      "provenance": [],
      "authorship_tag": "ABX9TyP7Iuisw2U3au4QbGO/ac5i",
      "include_colab_link": true
    },
    "kernelspec": {
      "name": "python3",
      "display_name": "Python 3"
    },
    "language_info": {
      "name": "python"
    }
  },
  "cells": [
    {
      "cell_type": "markdown",
      "metadata": {
        "id": "view-in-github",
        "colab_type": "text"
      },
      "source": [
        "<a href=\"https://colab.research.google.com/github/KorhanErkan/TASK-1.2.1/blob/master/TASK_1_2_1.ipynb\" target=\"_parent\"><img src=\"https://colab.research.google.com/assets/colab-badge.svg\" alt=\"Open In Colab\"/></a>"
      ]
    },
    {
      "cell_type": "code",
      "execution_count": null,
      "metadata": {
        "colab": {
          "base_uri": "https://localhost:8080/"
        },
        "id": "ZlvlJwKJ-PZ9",
        "outputId": "29007b3b-97d4-455b-9d1c-b56535e87cee"
      },
      "outputs": [
        {
          "output_type": "execute_result",
          "data": {
            "text/plain": [
              "True"
            ]
          },
          "metadata": {},
          "execution_count": 1
        }
      ],
      "source": [
        "def is_prime(num):\n",
        "  i = 3\n",
        "  if (num<2):\n",
        "    return False\n",
        "  elif (num==2):\n",
        "    return True\n",
        "  elif (num%2==0):\n",
        "    return False\n",
        "  while i<int(num/2):\n",
        "    if (num%i == 0):\n",
        "      return False\n",
        "    else:\n",
        "      i+=2\n",
        "  return True\n",
        "\n",
        "is_prime(5)"
      ]
    }
  ]
}